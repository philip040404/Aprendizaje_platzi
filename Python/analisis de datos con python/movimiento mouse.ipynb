{
 "cells": [
  {
   "cell_type": "code",
   "execution_count": 1,
   "metadata": {},
   "outputs": [],
   "source": [
    "import pyautogui\n",
    "import time"
   ]
  },
  {
   "cell_type": "code",
   "execution_count": 2,
   "metadata": {},
   "outputs": [],
   "source": [
    "total_repeticiones = 30 * 60 // 10  # 30 minutos en segundos dividido por 10 segundos"
   ]
  },
  {
   "cell_type": "code",
   "execution_count": 4,
   "metadata": {},
   "outputs": [
    {
     "ename": "KeyboardInterrupt",
     "evalue": "",
     "output_type": "error",
     "traceback": [
      "\u001b[1;31m---------------------------------------------------------------------------\u001b[0m",
      "\u001b[1;31mKeyboardInterrupt\u001b[0m                         Traceback (most recent call last)",
      "\u001b[1;32mc:\\Users\\delgaf18\\OneDrive - Medtronic PLC\\Trabajo\\Proyectos de automatizacion\\Aprendizaje y codigos base\\Aprendizaje_platzi\\Python\\analisis de datos con python\\movimiento mouse.ipynb Cell 3\u001b[0m line \u001b[0;36m7\n\u001b[0;32m      <a href='vscode-notebook-cell:/c%3A/Users/delgaf18/OneDrive%20-%20Medtronic%20PLC/Trabajo/Proyectos%20de%20automatizacion/Aprendizaje%20y%20codigos%20base/Aprendizaje_platzi/Python/analisis%20de%20datos%20con%20python/movimiento%20mouse.ipynb#W3sZmlsZQ%3D%3D?line=4'>5</a>\u001b[0m \u001b[39mfor\u001b[39;00m _ \u001b[39min\u001b[39;00m \u001b[39mrange\u001b[39m(total_repeticiones):\n\u001b[0;32m      <a href='vscode-notebook-cell:/c%3A/Users/delgaf18/OneDrive%20-%20Medtronic%20PLC/Trabajo/Proyectos%20de%20automatizacion/Aprendizaje%20y%20codigos%20base/Aprendizaje_platzi/Python/analisis%20de%20datos%20con%20python/movimiento%20mouse.ipynb#W3sZmlsZQ%3D%3D?line=5'>6</a>\u001b[0m     move_mouse()\n\u001b[1;32m----> <a href='vscode-notebook-cell:/c%3A/Users/delgaf18/OneDrive%20-%20Medtronic%20PLC/Trabajo/Proyectos%20de%20automatizacion/Aprendizaje%20y%20codigos%20base/Aprendizaje_platzi/Python/analisis%20de%20datos%20con%20python/movimiento%20mouse.ipynb#W3sZmlsZQ%3D%3D?line=6'>7</a>\u001b[0m     time\u001b[39m.\u001b[39;49msleep(\u001b[39m30\u001b[39;49m)\n",
      "\u001b[1;31mKeyboardInterrupt\u001b[0m: "
     ]
    }
   ],
   "source": [
    "def move_mouse():\n",
    "    pyautogui.moveTo(100, 100)\n",
    "    time.sleep(3)\n",
    "    pyautogui.moveTo(200, 200)\n",
    "for _ in range(total_repeticiones):\n",
    "    move_mouse()\n",
    "    time.sleep(30)"
   ]
  }
 ],
 "metadata": {
  "kernelspec": {
   "display_name": "Python 3",
   "language": "python",
   "name": "python3"
  },
  "language_info": {
   "codemirror_mode": {
    "name": "ipython",
    "version": 3
   },
   "file_extension": ".py",
   "mimetype": "text/x-python",
   "name": "python",
   "nbconvert_exporter": "python",
   "pygments_lexer": "ipython3",
   "version": "3.12.0"
  }
 },
 "nbformat": 4,
 "nbformat_minor": 2
}
