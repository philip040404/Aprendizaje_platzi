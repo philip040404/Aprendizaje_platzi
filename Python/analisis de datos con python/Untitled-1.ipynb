{
 "cells": [
  {
   "cell_type": "code",
   "execution_count": 12,
   "metadata": {},
   "outputs": [
    {
     "name": "stderr",
     "output_type": "stream",
     "text": [
      "C:\\Users\\delgaf18\\AppData\\Local\\Temp\\ipykernel_26636\\1151277029.py:2: DtypeWarning: Columns (10,14,49) have mixed types. Specify dtype option on import or set low_memory=False.\n",
      "  data=pd.read_csv(r\"C:\\Users\\delgaf18\\OneDrive - Medtronic PLC\\Trabajo\\OTIF\\data.csv\")\n"
     ]
    }
   ],
   "source": [
    "import pandas as pd\n",
    "data=pd.read_csv(r\"C:\\Users\\delgaf18\\OneDrive - Medtronic PLC\\Trabajo\\OTIF\\data.csv\")"
   ]
  },
  {
   "cell_type": "code",
   "execution_count": 2,
   "metadata": {},
   "outputs": [
    {
     "data": {
      "text/plain": [
       "Index(['Order Number', 'Order Line Number', 'Sales Document Type Code',\n",
       "       'PO Type Code', 'Requested Delivery Date (RDD)', 'Planned PGI TS',\n",
       "       'Delivery Create Cutoff', 'Carrier Cutoff', 'Delivery Create Timestamp',\n",
       "       'Actual PGI Timestamp', 'Pickup Timestamp', 'Delivered Timestamp',\n",
       "       'EXPECTED_DLVRY_DT', 'Sales Org ID', 'Plant ID', 'Plant Name',\n",
       "       'Shipping Point', 'Shipping Point Description', 'Material', 'CFN',\n",
       "       'CFN / Product Description', 'OTIF Root Cause Code (Line)',\n",
       "       'OTIF Result Description & Code', 'OTOE Result Code',\n",
       "       'OTOE Result Description & Code', 'PA Result Code',\n",
       "       'PA Result Description & Code', 'BROT Result Code',\n",
       "       'BROT Result Description & Code', 'OTDE Result Code',\n",
       "       'OTDE Result Description & Code', 'DCS Result Code',\n",
       "       'DCS Result Description & Code', 'OLTP Result Code',\n",
       "       'OLTP Result Description & Code', 'SDP Result Code',\n",
       "       'SDP Result Description & Code', 'Tracking Number', 'Ship To Customer',\n",
       "       'Ship To Postal Code', 'Delivery Number', 'Delivery Line Number',\n",
       "       'Ship Route Code', 'Ship Route Description', 'Standard Route Carrier',\n",
       "       'Standard Route Mode', 'Standard Route Service', 'SDS Cause Flag Char',\n",
       "       'Complete Delivery Indicator', 'Complete Order Indicator',\n",
       "       'Delivery Priority Code', 'Shipping Condition Code', 'EDD Source',\n",
       "       'POD Source', 'RPH 1 - Portfolio', 'RPH 2 - Operating Unit', 'RPH 3',\n",
       "       'RPH 4', 'RPH 5', 'RPH 7', 'RPH 6', 'RPH 8',\n",
       "       'MFG 0 - Operations Network', 'MFG 1', 'MFG 2', 'MFG 3 - Mfg Plant',\n",
       "       'Sold To Country', 'MOT', 'Fiscal Week Desc', 'Fiscal Week', 'Carrier',\n",
       "       'Fiscal Quarter Description', 'Ship To City Name', 'Fiscal Month',\n",
       "       'Fiscal Month Desc', 'Expected Delivery Timestamp', 'Cluster',\n",
       "       'Sales Org'],\n",
       "      dtype='object')"
      ]
     },
     "execution_count": 2,
     "metadata": {},
     "output_type": "execute_result"
    }
   ],
   "source": [
    "data.columns"
   ]
  },
  {
   "cell_type": "code",
   "execution_count": 13,
   "metadata": {},
   "outputs": [
    {
     "data": {
      "text/plain": [
       "array(['BRAZIL', 'CHILE', 'MEXICO', 'ARGENTINA', 'DOMINICAN REP.',\n",
       "       'COLOMBIA', 'PUERTO RICO', 'COSTA RICA', 'URUGUAY', 'PANAMA',\n",
       "       'PERU', 'USA', nan], dtype=object)"
      ]
     },
     "execution_count": 13,
     "metadata": {},
     "output_type": "execute_result"
    }
   ],
   "source": [
    "data['Sold To Country'].unique()"
   ]
  },
  {
   "cell_type": "code",
   "execution_count": 14,
   "metadata": {},
   "outputs": [],
   "source": [
    "data=data[data['Sold To Country']=='URUGUAY']"
   ]
  },
  {
   "cell_type": "code",
   "execution_count": 9,
   "metadata": {},
   "outputs": [],
   "source": [
    "data.to_excel(r\"C:\\Users\\delgaf18\\OneDrive - Medtronic PLC\\Trabajo\\OTIF\\data_uruguay.xlsx\",index=False)"
   ]
  }
 ],
 "metadata": {
  "kernelspec": {
   "display_name": "Python 3",
   "language": "python",
   "name": "python3"
  },
  "language_info": {
   "codemirror_mode": {
    "name": "ipython",
    "version": 3
   },
   "file_extension": ".py",
   "mimetype": "text/x-python",
   "name": "python",
   "nbconvert_exporter": "python",
   "pygments_lexer": "ipython3",
   "version": "3.12.0"
  }
 },
 "nbformat": 4,
 "nbformat_minor": 2
}
